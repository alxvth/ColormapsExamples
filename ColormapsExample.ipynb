{
 "cells": [
  {
   "cell_type": "code",
   "execution_count": 21,
   "id": "a2f0bddc",
   "metadata": {},
   "outputs": [
    {
     "data": {
      "application/vnd.jupyter.widget-view+json": {
       "model_id": "73d5dfff36fe4ff9ab1aeab8bdce75b7",
       "version_major": 2,
       "version_minor": 0
      },
      "text/plain": [
       "interactive(children=(Dropdown(description='colormap', options=('viridis', 'binary', 'jet', 'gray', 'PiYG', 'f…"
      ]
     },
     "metadata": {},
     "output_type": "display_data"
    }
   ],
   "source": [
    "import numpy as np\n",
    "import matplotlib.pyplot as plt\n",
    "from ipywidgets import interact \n",
    "\n",
    "np.random.seed(1234)\n",
    "\n",
    "img_width = 400\n",
    "ls  = np.linspace(0, 10, img_width)\n",
    "x,y = np.meshgrid(ls, ls)\n",
    "\n",
    "noise = 0.3\n",
    "data = np.sin(x) * np.cos(y) + noise * np.random.rand(img_width, img_width)\n",
    "\n",
    "@interact\n",
    "def plot_data(colormap=['viridis', 'binary', 'jet', 'gray','PiYG','flag','Set1', 'turbo', 'prism']):\n",
    "    fig, ax = plt.subplots()\n",
    "    im = ax.imshow(data, cmap=colormap)\n",
    "    ax.invert_yaxis()\n",
    "    cbar = plt.colorbar(im)\n",
    "    cbar.set_label('Value')\n",
    "    plt.title(\"Some data\")\n",
    "    plt.show()\n"
   ]
  },
  {
   "cell_type": "code",
   "execution_count": null,
   "id": "c91f456e",
   "metadata": {},
   "outputs": [],
   "source": []
  }
 ],
 "metadata": {
  "kernelspec": {
   "display_name": "Python 3",
   "language": "python",
   "name": "python3"
  },
  "language_info": {
   "codemirror_mode": {
    "name": "ipython",
    "version": 3
   },
   "file_extension": ".py",
   "mimetype": "text/x-python",
   "name": "python",
   "nbconvert_exporter": "python",
   "pygments_lexer": "ipython3",
   "version": "3.7.10"
  }
 },
 "nbformat": 4,
 "nbformat_minor": 5
}
