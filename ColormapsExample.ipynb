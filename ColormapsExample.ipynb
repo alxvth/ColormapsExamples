{
 "cells": [
  {
   "cell_type": "code",
   "execution_count": 19,
   "id": "a2f0bddc",
   "metadata": {},
   "outputs": [
    {
     "data": {
      "application/vnd.jupyter.widget-view+json": {
       "model_id": "e8a9b9d21b2e4062b655a35a3c072098",
       "version_major": 2,
       "version_minor": 0
      },
      "text/plain": [
       "interactive(children=(Dropdown(description='colormap', options=('viridis', 'binary', 'jet', 'gray', 'PiYG', 'f…"
      ]
     },
     "metadata": {},
     "output_type": "display_data"
    }
   ],
   "source": [
    "import numpy as np\n",
    "import matplotlib.pyplot as plt\n",
    "from ipywidgets import interact \n",
    "\n",
    "np.random.seed(1234)\n",
    "\n",
    "ls  = np.linspace(0, 10, 400)\n",
    "x,y = np.meshgrid(ls, ls)\n",
    "\n",
    "data = np.sin(x)*np.cos(y)+0.1*np.random.rand(400,400)\n",
    "\n",
    "@interact\n",
    "def plot_data(colormap=['viridis', 'binary', 'jet', 'gray','PiYG','flag','Set1', 'turbo', 'prism']):\n",
    "    fig, ax = plt.subplots()\n",
    "    im = ax.imshow(data, cmap=colormap)\n",
    "    ax.invert_yaxis()\n",
    "    cbar = plt.colorbar(im)\n",
    "    cbar.set_label('Value')\n",
    "    plt.title(\"Some data\")\n",
    "    plt.show()\n"
   ]
  },
  {
   "cell_type": "code",
   "execution_count": null,
   "id": "c91f456e",
   "metadata": {},
   "outputs": [],
   "source": []
  }
 ],
 "metadata": {
  "kernelspec": {
   "display_name": "Python 3",
   "language": "python",
   "name": "python3"
  },
  "language_info": {
   "codemirror_mode": {
    "name": "ipython",
    "version": 3
   },
   "file_extension": ".py",
   "mimetype": "text/x-python",
   "name": "python",
   "nbconvert_exporter": "python",
   "pygments_lexer": "ipython3",
   "version": "3.7.10"
  }
 },
 "nbformat": 4,
 "nbformat_minor": 5
}
