{
 "cells": [
  {
   "cell_type": "code",
   "execution_count": null,
   "id": "a2f0bddc",
   "metadata": {},
   "outputs": [],
   "source": [
    "import numpy as np\n",
    "import matplotlib.pyplot as plt\n",
    "from ipywidgets import interact \n",
    "\n",
    "np.random.seed(1234)\n",
    "\n",
    "colormaps=[\"viridis\", \"jet\", \"gray\", \"PiYG\", \"flag\", \"Set1\", \"turbo\", \"prism\"]\n",
    "\n",
    "img_width = 400\n",
    "ls  = np.linspace(0, 10, img_width)\n",
    "x,y = np.meshgrid(ls, ls)\n",
    "\n",
    "noise_lvl = 0.3\n",
    "data = np.sin(x) * np.cos(y) + noise_lvl * np.random.rand(img_width, img_width)\n",
    "\n",
    "@interact(colormap=colormaps)\n",
    "def plot_data(colormap=colormaps[0]):\n",
    "    fig, ax = plt.subplots()\n",
    "    im = ax.imshow(data, cmap=colormap)\n",
    "    ax.invert_yaxis()\n",
    "    cbar = plt.colorbar(im)\n",
    "    cbar.set_label('Value')\n",
    "    plt.title(\"Some data\")\n",
    "    plt.show()\n"
   ]
  },
  {
   "cell_type": "code",
   "execution_count": null,
   "id": "c91f456e",
   "metadata": {},
   "outputs": [],
   "source": []
  }
 ],
 "metadata": {
  "kernelspec": {
   "display_name": "Python 3 (ipykernel)",
   "language": "python",
   "name": "python3"
  },
  "language_info": {
   "codemirror_mode": {
    "name": "ipython",
    "version": 3
   },
   "file_extension": ".py",
   "mimetype": "text/x-python",
   "name": "python",
   "nbconvert_exporter": "python",
   "pygments_lexer": "ipython3",
   "version": "3.7.10"
  }
 },
 "nbformat": 4,
 "nbformat_minor": 5
}
