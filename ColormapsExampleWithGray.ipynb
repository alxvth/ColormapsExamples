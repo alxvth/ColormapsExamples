{
 "cells": [
  {
   "cell_type": "code",
   "execution_count": 6,
   "id": "273688c4",
   "metadata": {},
   "outputs": [
    {
     "name": "stdout",
     "output_type": "stream",
     "text": [
      "Requirement already satisfied: colorspacious in d:\\programs\\anaconda3\\lib\\site-packages (1.1.2)\n",
      "Requirement already satisfied: numpy in d:\\programs\\anaconda3\\lib\\site-packages (from colorspacious) (1.20.3)\n"
     ]
    },
    {
     "name": "stderr",
     "output_type": "stream",
     "text": [
      "WARNING: Ignoring invalid distribution -nswlib (d:\\programs\\anaconda3\\lib\\site-packages)\n",
      "WARNING: Ignoring invalid distribution -nswlib (d:\\programs\\anaconda3\\lib\\site-packages)\n",
      "WARNING: Ignoring invalid distribution -nswlib (d:\\programs\\anaconda3\\lib\\site-packages)\n",
      "WARNING: Ignoring invalid distribution -nswlib (d:\\programs\\anaconda3\\lib\\site-packages)\n",
      "WARNING: Ignoring invalid distribution -nswlib (d:\\programs\\anaconda3\\lib\\site-packages)\n"
     ]
    },
    {
     "data": {
      "application/vnd.jupyter.widget-view+json": {
       "model_id": "722afaec23a5487bbd9ba1a9abe0780c",
       "version_major": 2,
       "version_minor": 0
      },
      "text/plain": [
       "interactive(children=(Dropdown(description='colormap', options=('viridis', 'jet', 'gray', 'PiYG', 'flag', 'Set…"
      ]
     },
     "metadata": {},
     "output_type": "display_data"
    }
   ],
   "source": [
    "import numpy as np\n",
    "import matplotlib.pyplot as plt\n",
    "from matplotlib.colors import ListedColormap\n",
    "from matplotlib import cm\n",
    "from ipywidgets import interact \n",
    "!pip install colorspacious\n",
    "from colorspacious import cspace_converter\n",
    "\n",
    "np.random.seed(1234)\n",
    "\n",
    "img_width = 400\n",
    "ls  = np.linspace(0, 10, img_width)\n",
    "x,y = np.meshgrid(ls, ls)\n",
    "\n",
    "noise = 0.3\n",
    "data = np.sin(x) * np.cos(y) + noise * np.random.rand(img_width, img_width)\n",
    "\n",
    "def gray_cm(cmapname):\n",
    "    x = np.linspace(0.0, 1.0, 100)\n",
    "    rgb = cm.get_cmap(plt.get_cmap(cmapname))(x)[np.newaxis, :, :3]\n",
    "    lab = cspace_converter(\"sRGB1\", \"CAM02-UCS\")(rgb)\n",
    "    L = lab[0, :, 0]\n",
    "    L = np.float32(np.vstack((L, L, L))).transpose() / 100\n",
    "\n",
    "    return ListedColormap(L)\n",
    "\n",
    "    \n",
    "@interact\n",
    "def plot_data(colormap=['viridis', 'jet', 'gray','PiYG','flag','Set1', 'turbo', 'prism'], gray=False):\n",
    "    fig, ax = plt.subplots()\n",
    "    \n",
    "    if gray:\n",
    "        colormap = gray_cm(colormap)\n",
    "    \n",
    "    im = ax.imshow(data, cmap=colormap)\n",
    "    ax.invert_yaxis()\n",
    "    \n",
    "    cbar = plt.colorbar(im)\n",
    "    cbar.set_label('Value')\n",
    "    \n",
    "    plt.title(\"Some data\")\n",
    "    plt.show()"
   ]
  },
  {
   "cell_type": "code",
   "execution_count": null,
   "id": "be41bf89",
   "metadata": {},
   "outputs": [],
   "source": []
  }
 ],
 "metadata": {
  "kernelspec": {
   "display_name": "Python 3",
   "language": "python",
   "name": "python3"
  },
  "language_info": {
   "codemirror_mode": {
    "name": "ipython",
    "version": 3
   },
   "file_extension": ".py",
   "mimetype": "text/x-python",
   "name": "python",
   "nbconvert_exporter": "python",
   "pygments_lexer": "ipython3",
   "version": "3.7.10"
  }
 },
 "nbformat": 4,
 "nbformat_minor": 5
}
