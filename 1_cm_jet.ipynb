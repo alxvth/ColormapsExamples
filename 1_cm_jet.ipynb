{
 "cells": [
  {
   "cell_type": "code",
   "execution_count": null,
   "id": "97c0000b",
   "metadata": {},
   "outputs": [],
   "source": [
    "%matplotlib inline\n",
    "import numpy as np\n",
    "import matplotlib.pyplot as plt\n",
    "from matplotlib.colors import ListedColormap\n",
    "from matplotlib.cm import get_cmap\n",
    "from mpl_toolkits.axes_grid1 import make_axes_locatable\n",
    "from ipywidgets import interact \n",
    "\n",
    "# this try-except block is for Google Colab, which does not install all requirements automatically\n",
    "try:\n",
    "    from colorspacious import cspace_converter\n",
    "except ModuleNotFoundError:\n",
    "    !pip install colorspacious\n",
    "    from colorspacious import cspace_converter\n",
    "\n",
    "np.random.seed(1234)\n",
    "\n",
    "colormap = \"jet\"\n",
    "\n",
    "img_width = 400\n",
    "ls  = np.linspace(0, 10, img_width)\n",
    "x,y = np.meshgrid(ls, ls)\n",
    "\n",
    "noise = 0.0\n",
    "data = np.sin(x) * np.cos(y)\n",
    "\n",
    "def convert_cm_gray(cmname: str):\n",
    "    x = np.linspace(0.0, 1.0, 100)\n",
    "    rgb = get_cmap(plt.get_cmap(cmname))(x)[np.newaxis, :, :3]\n",
    "    lab = cspace_converter(\"sRGB1\", \"CAM02-UCS\")(rgb)\n",
    "    L = lab[0, :, 0]\n",
    "    L = np.float32(np.vstack((L, L, L))).transpose() / 100\n",
    "\n",
    "    return ListedColormap(L)\n",
    "\n",
    "    \n",
    "@interact(gray=False)\n",
    "def plot_data(colormap=colormap, gray=False):\n",
    "    fig, ax = plt.subplots(figsize=(6,6))\n",
    "    \n",
    "    if gray:\n",
    "        colormap = convert_cm_gray(colormap)\n",
    "    \n",
    "    im_data = data + noise * np.random.rand(img_width, img_width)\n",
    "    \n",
    "    im = ax.imshow(im_data, cmap=colormap)\n",
    "    ax.invert_yaxis()\n",
    "    ax.set_title(\"Some data\")\n",
    "    \n",
    "    divider = make_axes_locatable(ax)\n",
    "    cax = divider.append_axes(\"right\", size=\"5%\", pad=0.1)\n",
    "    cbar = plt.colorbar(im, cax=cax)\n",
    "    cbar.set_label('Value')\n",
    "        \n",
    "    plt.tight_layout()\n",
    "    plt.show()"
   ]
  },
  {
   "cell_type": "code",
   "execution_count": null,
   "id": "41ca2c7f",
   "metadata": {},
   "outputs": [],
   "source": []
  }
 ],
 "metadata": {
  "kernelspec": {
   "display_name": "Python 3 (ipykernel)",
   "language": "python",
   "name": "python3"
  },
  "language_info": {
   "codemirror_mode": {
    "name": "ipython",
    "version": 3
   },
   "file_extension": ".py",
   "mimetype": "text/x-python",
   "name": "python",
   "nbconvert_exporter": "python",
   "pygments_lexer": "ipython3",
   "version": "3.7.10"
  }
 },
 "nbformat": 4,
 "nbformat_minor": 5
}
